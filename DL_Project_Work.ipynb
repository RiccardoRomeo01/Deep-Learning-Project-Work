{
  "cells": [
    {
      "cell_type": "markdown",
      "source": [
        "# Deep Learning Project Work"
      ],
      "metadata": {
        "id": "j4Ey1zeixPzz"
      }
    },
    {
      "cell_type": "markdown",
      "source": [
        "# Installing Dependencies"
      ],
      "metadata": {
        "id": "qjKOR4xIxG2C"
      }
    },
    {
      "cell_type": "markdown",
      "source": [
        "# Some Usefull Imports"
      ],
      "metadata": {
        "id": "0vjZ7ik5w2zx"
      }
    }
  ],
  "metadata": {
    "language_info": {
      "name": "python"
    },
    "colab": {
      "provenance": [],
      "toc_visible": true,
      "gpuType": "T4"
    },
    "accelerator": "GPU"
  },
  "nbformat": 4,
  "nbformat_minor": 0
}